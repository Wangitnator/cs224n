{
 "cells": [
  {
   "cell_type": "markdown",
   "metadata": {},
   "source": [
    "![title](imgs/ps2_problem1.png)"
   ]
  },
  {
   "cell_type": "markdown",
   "metadata": {},
   "source": [
    "![title](imgs/ps2_problem1ai.png)"
   ]
  },
  {
   "cell_type": "markdown",
   "metadata": {},
   "source": [
    "![title](imgs/ps2_problem1aii.png)"
   ]
  },
  {
   "cell_type": "markdown",
   "metadata": {},
   "source": [
    "## Answer:\n",
    "When $ O_i = o \\implies y_i = 1 \\implies -\\sum_{w \\in V o c a b} y_{w} \\log \\left(\\hat{y}_{w}\\right)=-\\log \\left(\\hat{y}_{o}{\\left(i\\right)}\\right) $"
   ]
  },
  {
   "cell_type": "markdown",
   "metadata": {},
   "source": [
    "![title](imgs/ps2_problem1b.png)"
   ]
  },
  {
   "cell_type": "markdown",
   "metadata": {},
   "source": [
    "## Answer:\n",
    "$$\\frac{\\partial{\\boldsymbol{J}_{\\text {naive-softmax }}\\left(\\boldsymbol{v}_{c}, o, \\boldsymbol{U}\\right)}}{\\partial{v_c}}=\\frac{\\partial{\\left(-\\log (P(O=o)(C=c)\\right)}}{\\partial{v_c}}$$\n",
    "\n",
    "$$ = \\frac{\\partial{-\\left(\\log \\left[\\frac{\\left(e^{u_w^{\\top} v_{c}}\\right)}{\\left(\\sum e^{u_w^{\\top} v_{c}}\\right)}\\right]\\right)}}{\\partial{v_{c}}}$$\n",
    "$$ = \\frac{\\partial{-\\left(\\log \\left(e^{u_w^{\\top} v_{c}}\\right)\\right)}}{\\partial{v_{c}}} + \\frac{\\partial{y\\log \\left(\\sum e^{u_w^{\\top} v_{c}}\\right)}}{\\partial{v_{c}}}$$\n",
    "$$ =\\frac{\\partial{-u_w^{\\top} v_{c}}}{\\partial{v_{c}}} + \\frac{\\partial{ \\left( \\log \\left(\\sum e^{u_w^{\\top} v_{c}}\\right)\\right)}}{\\partial{v_{c}}}$$\n",
    "$$ =-u_w + \\frac{\\partial{\\left(\\log \\left(\\sum  e^{u_w^{\\top} v_{c}}\\right)\\right)}}{\\partial{v_{c}}}$$\n",
    "$$ =-u_w + \\frac{1}{\\sum e^{u_w^{\\top} v_{c}}}\\frac{\\partial{\\sum e^{u_w^{\\top} v_{c}}}}{\\partial{v_{c}}}$$\n",
    "$$ =-u_w + \\frac{1}{\\sum e^{u_w^{\\top} v_{c}}}{\\left(u_w e^{u_w^{\\top} v_{c}}\\right)}$$\n",
    "$$ = U(-y + \\hat{y} ) $$\n",
    "$$ = U(\\hat{y} - y) $$"
   ]
  },
  {
   "cell_type": "markdown",
   "metadata": {},
   "source": [
    "![title](imgs/ps2_problem1c.png)"
   ]
  },
  {
   "cell_type": "markdown",
   "metadata": {},
   "source": [
    "## Answer:\n",
    "### Case 1 (When $w = o$):\n",
    "## Answer:\n",
    "$$\\frac{\\partial{\\boldsymbol{J}_{\\text {naive-softmax }}\\left(\\boldsymbol{v}_{c}, o, \\boldsymbol{U}\\right)}}{\\partial{v_c}}=\\frac{\\partial{\\left(-\\log (P(O=o)(C=c)\\right)}}{\\partial{u_w}}$$\n",
    "\n",
    "$$ = \\frac{\\partial{-\\left(\\log \\left[\\frac{\\left(e^{u_o^{\\top} v_{c}}\\right)}{\\left(\\sum e^{u_w^{\\top} v_{c}}\\right)}\\right]\\right)}}{\\partial{u_w}}$$\n",
    "$$ = \\frac{\\partial{-\\left(\\log \\left(e^{u_o^{\\top} v_{c}}\\right)\\right)}}{\\partial{u_w}} + \\frac{\\partial{\\log \\left(\\sum e^{u_w^{\\top} v_{c}}\\right)}}{\\partial{u_w}}$$\n",
    "$$ =\\frac{\\partial{-u_o^{\\top} v_{c}}}{\\partial{u_w}} + \\frac{\\partial{ \\left( \\log \\left(\\sum e^{u_w^{\\top} v_{c}}\\right)\\right)}}{\\partial{u_w}}$$\n",
    "$$ =-v_c + \\frac{\\partial{\\left(\\log \\left(\\sum  e^{u_w^{\\top} v_{c}}\\right)\\right)}}{\\partial{u_w}}$$\n",
    "$$ =-v_c + \\frac{1}{\\sum e^{u_w^{\\top} v_{c}}}\\frac{\\partial{\\sum e^{u_w^{\\top} v_{c}}}}{\\partial{u_w}}$$\n",
    "$$ =-v_c + \\frac{1}{\\sum e^{u_w^{\\top} v_{c}}}{\\left(v_c e^{u_w^{\\top} v_{c}}\\right)}$$\n",
    "$$ = v_c(-y + \\hat{y} ) $$\n",
    "$$ = v_c(\\hat{y} - y) $$"
   ]
  },
  {
   "cell_type": "markdown",
   "metadata": {},
   "source": [
    "### Case 2 (when $w \\neq o$):\n",
    "$$ = \\frac{\\partial{-\\left(\\log \\left[\\frac{\\left(e^{u_o^{\\top} v_{c}}\\right)}{\\left(\\sum e^{u_w^{\\top} v_{c}}\\right)}\\right]\\right)}}{\\partial{u_w}}$$\n",
    "$$ = \\frac{\\partial{-\\left(\\log \\left(e^{u_o^{\\top} v_{c}}\\right)\\right)}}{\\partial{u_w}} + \\frac{\\partial{\\log \\left(\\sum e^{u_w^{\\top} v_{c}}\\right)}}{\\partial{u_w}}$$\n",
    "$$ =\\frac{\\partial{-u_o^{\\top} v_{c}}}{\\partial{u_w}} + \\frac{\\partial{ \\left( \\log \\left(\\sum e^{u_w^{\\top} v_{c}}\\right)\\right)}}{\\partial{u_w}}$$\n",
    "$$ = 0 + \\frac{\\partial{\\left(\\log \\left(\\sum  e^{u_w^{\\top} v_{c}}\\right)\\right)}}{\\partial{u_w}}$$\n",
    "$$ = 0 + \\frac{1}{\\sum e^{u_w^{\\top} v_{c}}}\\frac{\\partial{\\sum e^{u_w^{\\top} v_{c}}}}{\\partial{u_w}}$$\n",
    "$$ = 0 + \\frac{1}{\\sum e^{u_w^{\\top} v_{c}}}{\\left(v_c e^{u_w^{\\top} v_{c}}\\right)}$$\n",
    "$$ = v_c \\hat{y} $$"
   ]
  },
  {
   "cell_type": "markdown",
   "metadata": {},
   "source": [
    "![title](imgs/ps2_problem1d.png)"
   ]
  },
  {
   "cell_type": "markdown",
   "metadata": {},
   "source": [
    "## Answer:\n",
    "$$\\sigma(x) =\\frac{1}{1+e^{-x}} $$\n",
    "$$ \\begin{aligned} \\\\\n",
    "\\frac{\\partial{\\sigma\\left(x\\right)}}{\\partial{x}} &=\\frac{1}{\\left(1+e^{-x}\\right)^2}\\left(-e^{-x}\\right) \\\\\n",
    "&= \\frac{1}{1+e^{-x}}\\left(\\frac{1+e^{-x} - 1}{1+e^{-x}}\\right)\\\\\n",
    "&= \\sigma\\left(x\\right) \\left(1 - \\sigma\\left(x\\right)\\right) \\\\\n",
    "\\end{aligned}$$\n"
   ]
  },
  {
   "cell_type": "markdown",
   "metadata": {},
   "source": [
    "![title](imgs/ps2_problem1e.png)"
   ]
  },
  {
   "cell_type": "markdown",
   "metadata": {},
   "source": [
    "## Answer:\n",
    "### Part i, $ v_c$:\n",
    "$$ J_{neg-sample}=-\\log \\left(\\sigma\\left(u_{0}^{\\top} v_{c}\\right)\\right) -\\sum_{k=1}^{K} \\log \\left(\\sigma\\left(-u_{k}^{T} v_{c}\\right)\\right)$$\n",
    "$$\\frac{\\partial{J}}{\\partial{v_c}}=\\frac{-\\log \\left(\\sigma\\left(u_{o}^{\\top} v_{c}\\right)\\right)}{\\partial{v_c}} \n",
    " - \\frac{\\partial{\\left(\\sum_{k=1}^{K} \\log \\left(\\sigma\\left(-u_{k}^{T} v_{c}\\right)\\right)\\right)}}{\\partial{v_c}}$$"
   ]
  },
  {
   "cell_type": "markdown",
   "metadata": {},
   "source": [
    "$$\\frac{\\partial{J}}{\\partial{v_c}}=\\frac{1}{\\sigma}\\sigma\\left(1 - \\sigma\\right)\\frac{\\partial{\\left(-u_{o}^{T} v_{c}\\right)}}{\\partial{v_c}}\n",
    " - \\frac{\\partial{\\left(\\sum_{k=1}^{K} \\log \\left(\\sigma\\left(-u_{k}^{T} v_{c}\\right)\\right)\\right)}}{\\partial{v_c}}$$\n",
    "$$\\frac{\\partial{J}}{\\partial{v_c}}=\\left(1 - \\sigma\\left(u_{o}^{T} v_{c}\\right)\\right)\\left(-u_{o}\\right)\n",
    " - \\frac{\\partial{\\left(\\sum_{k=1}^{K} \\log \\left(\\sigma\\left(-u_{k}^{T} v_{c}\\right)\\right)\\right)}}{\\partial{v_c}}$$"
   ]
  },
  {
   "cell_type": "markdown",
   "metadata": {},
   "source": [
    "$$\\frac{\\partial{J}}{\\partial{v_c}}=\\left(1 - \\sigma\\left(u_{o}^{T} v_{c}\\right)\\right)\\left(-u_{o}\\right)\n",
    " -\\sum_{k=1}^{K} \\frac{1}{\\sigma}\\sigma\\left(1 - \\sigma\\left(-u_{k}^{T} v_{c}\\right)\\right)\\frac{\\partial{\\left(-u_{k}^{T} v_{c}\\right)}}{\\partial{v_c}}$$\n",
    "$$\\frac{\\partial{J}}{\\partial{v_c}}=\\left(1 - \\sigma\\left(u_{o}^{T} v_{c}\\right)\\right)\\left(-u_{o}\\right)\n",
    " -\\sum_{k=1}^{K} \\left(1 - \\sigma\\left(-u_{k}^{T} v_{c}\\right)\\right)\\frac{\\partial{\\left(-u_{k}^{T} v_{c}\\right)}}{\\partial{v_c}}$$\n",
    "$$\\frac{\\partial{J}}{\\partial{v_c}}=\\left(1 - \\sigma\\left(u_{o}^{T} v_{c}\\right)\\right)\\left(-u_{o}\\right)\n",
    " +\\sum_{k=1}^{K} \\left(1 - \\sigma\\left(-u_{k}^{T} v_{c}\\right)\\right)u_{k}$$"
   ]
  },
  {
   "cell_type": "markdown",
   "metadata": {},
   "source": [
    "### Part ii, $u_o$:\n",
    "$$\\frac{\\partial{J}}{\\partial{u_o}}=\\frac{-\\log \\left(\\sigma\\left(u_{o}^{\\top} v_{c}\\right)\\right)}{\\partial{u_o}} \n",
    " - 0$$"
   ]
  },
  {
   "cell_type": "markdown",
   "metadata": {},
   "source": [
    "$$\\frac{\\partial{J}}{\\partial{u_o}}=\\frac{1}{\\sigma}\\sigma\\left(1 - \\sigma\\right)\\frac{\\partial{\\left(-u_{o}^{T} v_{c}\\right)}}{\\partial{u_o}}$$\n",
    "$$\\frac{\\partial{J}}{\\partial{u_o}}=\\left(1 - \\sigma\\left(u_{o}^{T} v_{c}\\right)\\right)\\left(-u_{k}\\right)$$"
   ]
  },
  {
   "cell_type": "markdown",
   "metadata": {},
   "source": [
    "### Part ii, $u_k$:\n",
    "$$\\frac{\\partial{J}}{\\partial{u_k}}=\\frac{-\\log \\left(\\sigma\\left(u_{o}^{\\top} v_{c}\\right)\\right)}{\\partial{u_k}} \n",
    " - \\frac{\\partial{\\left(\\sum_{k=1}^{K} \\log \\left(\\sigma\\left(-u_{k}^{T} v_{c}\\right)\\right)\\right)}}{\\partial{u_k}}$$\n",
    "$$ =0 - \\frac{\\partial{\\left(\\sum_{k=1}^{K} \\log \\left(\\sigma\\left(-u_{k}^{T} v_{c}\\right)\\right)\\right)}}{\\partial{u_k}} $$\n",
    "$$\\frac{\\partial{J}}{\\partial{v_c}}= - \\frac{\\partial{\\left(\\sum_{k=1}^{K} \\log \\left(\\sigma\\left(-u_{k}^{T} v_{c}\\right)\\right)\\right)}}{\\partial{u_k}}$$"
   ]
  },
  {
   "cell_type": "markdown",
   "metadata": {},
   "source": [
    "$$\\frac{\\partial{J}}{\\partial{u_k}}= -\\sum_{k=1}^{K} \\frac{1}{\\sigma}\\sigma\\left(1 - \\sigma\\left(-u_{k}^{T} v_{c}\\right)\\right)\\frac{\\partial{\\left(-u_{k}^{T} v_{c}\\right)}}{\\partial{u_k}}$$\n",
    "$$\\frac{\\partial{J}}{\\partial{u_k}}= -\\sum_{k=1}^{K} \\left(1 - \\sigma\\left(-u_{k}^{T} v_{c}\\right)\\right)\\frac{\\partial{\\left(-u_{k}^{T} v_{c}\\right)}}{\\partial{u_k}}$$\n",
    "$$\\frac{\\partial{J}}{\\partial{u_k}}= \\sum_{k=1}^{K} \\left(1 - \\sigma\\left(-u_{k}^{T} v_{c}\\right)\\right)v_c$$"
   ]
  },
  {
   "cell_type": "markdown",
   "metadata": {},
   "source": [
    "### Advantage: \n",
    "There are only K $\\frac{\\partial{J}}{\\partial{u_k}}$ derivatives we need to calculate, in addition to $\\frac{\\partial{J}}{\\partial{v_c}}$ and $\\frac{\\partial{J}}{\\partial{u_o}}$. In comparison, with skip-gram softmax, we have to calc $\\frac{\\partial{J}}{\\partial{u_k}}$ for all words in vocabulary ($O\\left(\\left|V\\right|\\right)$), which is ${10^3}$ to ${10^6}$ times more costly."
   ]
  },
  {
   "cell_type": "markdown",
   "metadata": {},
   "source": [
    "![title](imgs/ps2_problem1fi.png)"
   ]
  },
  {
   "cell_type": "markdown",
   "metadata": {},
   "source": [
    "## Answer: \n",
    "$$ \\partial \\boldsymbol{J}_{\\text {skip-gram }}\\left(\\boldsymbol{v}_{c}, w_{t-m}, \\ldots w_{t+m}, \\boldsymbol{U}\\right) / \\partial \\boldsymbol{U} = \\frac{\\partial{\\left(\\sum_{-m \\leq j \\leq m} J\\left(\\boldsymbol{v}_{c}, w_{t+j}, \\boldsymbol{U}\\right)\\right)}}{\\partial{U}}$$"
   ]
  },
  {
   "cell_type": "markdown",
   "metadata": {},
   "source": [
    "![title](imgs/ps2_problem1fii.png)"
   ]
  },
  {
   "cell_type": "markdown",
   "metadata": {},
   "source": [
    "## Answer: \n",
    "$$ \\partial \\boldsymbol{J}_{\\text {skip-gram }}\\left(\\boldsymbol{v}_{c}, w_{t-m}, \\ldots w_{t+m}, \\boldsymbol{U}\\right) / \\partial \\boldsymbol{v_c} = \\frac{\\partial{\\left(\\sum_{-m \\leq j \\leq m} J\\left(\\boldsymbol{v}_{c}, w_{t+j}, \\boldsymbol{U}\\right)\\right)}}{\\partial{v_c}}$$"
   ]
  },
  {
   "cell_type": "markdown",
   "metadata": {},
   "source": [
    "![title](imgs/ps2_problem1fiii.png)"
   ]
  },
  {
   "cell_type": "markdown",
   "metadata": {},
   "source": [
    "## Answer: \n",
    "$$ \\partial \\boldsymbol{J}_{\\text {skip-gram }}\\left(\\boldsymbol{v}_{w}, w_{t-m}, \\ldots w_{t+m}, \\boldsymbol{U}\\right) / \\partial \\boldsymbol{v_w} = \\frac{\\partial{\\left(\\sum_{-m \\leq j \\leq m} J\\left(\\boldsymbol{v}_{w}, w_{t+j}, \\boldsymbol{U}\\right)\\right)}}{\\partial{v_w}} = 0$$"
   ]
  },
  {
   "cell_type": "markdown",
   "metadata": {},
   "source": [
    "![title](imgs/ps2_problem2a.png)"
   ]
  },
  {
   "cell_type": "markdown",
   "metadata": {},
   "source": [
    "[Link to word2vec.py](word2vec.py)"
   ]
  },
  {
   "cell_type": "markdown",
   "metadata": {},
   "source": [
    "![title](imgs/ps2_problem2b.png)"
   ]
  },
  {
   "cell_type": "markdown",
   "metadata": {},
   "source": []
  },
  {
   "cell_type": "markdown",
   "metadata": {},
   "source": [
    "![title](imgs/ps2_problem2c.png)"
   ]
  },
  {
   "cell_type": "markdown",
   "metadata": {},
   "source": [
    "![title](word_vectors.png)"
   ]
  },
  {
   "cell_type": "markdown",
   "metadata": {},
   "source": [
    "![title](imgs/ps2_problem3a.png)"
   ]
  },
  {
   "cell_type": "markdown",
   "metadata": {},
   "source": [
    "## N/A"
   ]
  },
  {
   "cell_type": "markdown",
   "metadata": {},
   "source": [
    "![title](imgs/ps2_problem3b.png)"
   ]
  },
  {
   "cell_type": "markdown",
   "metadata": {},
   "source": [
    "## N/A"
   ]
  },
  {
   "cell_type": "markdown",
   "metadata": {},
   "source": [
    "![title](imgs/ps2_problem3c.png)"
   ]
  },
  {
   "cell_type": "markdown",
   "metadata": {},
   "source": [
    "## N/A"
   ]
  }
 ],
 "metadata": {
  "kernelspec": {
   "display_name": "Python 3",
   "language": "python",
   "name": "python3"
  },
  "language_info": {
   "codemirror_mode": {
    "name": "ipython",
    "version": 3
   },
   "file_extension": ".py",
   "mimetype": "text/x-python",
   "name": "python",
   "nbconvert_exporter": "python",
   "pygments_lexer": "ipython3",
   "version": "3.7.6"
  }
 },
 "nbformat": 4,
 "nbformat_minor": 4
}
